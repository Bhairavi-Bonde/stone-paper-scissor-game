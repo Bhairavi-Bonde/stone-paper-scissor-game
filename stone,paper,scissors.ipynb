{
 "cells": [
  {
   "cell_type": "code",
   "execution_count": 1,
   "id": "7d9586f8",
   "metadata": {},
   "outputs": [
    {
     "name": "stdout",
     "output_type": "stream",
     "text": [
      "type stone/paper/scissors or Q to quit stone\n",
      "computer picked paper\n",
      "you lost!\n",
      "type stone/paper/scissors or Q to quit paper\n",
      "computer picked stone\n",
      "you lost!\n",
      "type stone/paper/scissors or Q to quit q\n",
      "you won 0 times.\n",
      "computer won 2 times.\n",
      "goodbye!\n"
     ]
    }
   ],
   "source": [
    "import random\n",
    "\n",
    "user_wins=0\n",
    "computer_wins=0\n",
    "options=['stone','paper','scissors']\n",
    "\n",
    "while True:\n",
    "    user_input=input(\"type stone/paper/scissors or Q to quit \").lower()\n",
    "    if user_input=='q':\n",
    "        break\n",
    "    if user_input not in options:\n",
    "        continue\n",
    "    \n",
    "    random_number=random.randint(0,2)\n",
    "    computer_pick=options[random_number]\n",
    "    print(\"computer picked\",computer_pick)\n",
    "\n",
    "    if user_input=='stone' and computer_pick=='scissors':\n",
    "        print(\"You won!\")\n",
    "        user_wins+=1\n",
    "\n",
    "    elif user_input=='paper' and computer_pick=='rock':\n",
    "        print(\"you won!\")\n",
    "        user_wins+=1\n",
    "\n",
    "    elif user_input=='scissors' and computer_pick=='paper':\n",
    "        print(\"you won!\")\n",
    "        user_wins+=1\n",
    "\n",
    "    else:\n",
    "        print(\"you lost!\")\n",
    "        computer_wins+=1\n",
    "\n",
    "    \n",
    "print(\"you won\", user_wins,\"times.\")\n",
    "print(\"computer won\", computer_wins,\"times.\")\n",
    "print(\"goodbye!\")"
   ]
  },
  {
   "cell_type": "code",
   "execution_count": null,
   "id": "c5e73a32",
   "metadata": {},
   "outputs": [],
   "source": []
  }
 ],
 "metadata": {
  "kernelspec": {
   "display_name": "Python 3 (ipykernel)",
   "language": "python",
   "name": "python3"
  },
  "language_info": {
   "codemirror_mode": {
    "name": "ipython",
    "version": 3
   },
   "file_extension": ".py",
   "mimetype": "text/x-python",
   "name": "python",
   "nbconvert_exporter": "python",
   "pygments_lexer": "ipython3",
   "version": "3.11.5"
  }
 },
 "nbformat": 4,
 "nbformat_minor": 5
}
